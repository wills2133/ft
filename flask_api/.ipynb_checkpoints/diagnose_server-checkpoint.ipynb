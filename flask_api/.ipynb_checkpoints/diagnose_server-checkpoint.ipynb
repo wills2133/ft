{
 "cells": [
  {
   "cell_type": "code",
   "execution_count": null,
   "metadata": {
    "collapsed": true
   },
   "outputs": [],
   "source": [
    "# -*- coding: utf-8 -*-\n",
    "%matplotlib inline\n",
    "from sklearn.cluster import KMeans\n",
    "from sklearn.externals import joblib\n",
    "import cv2\n",
    "from matplotlib import pyplot as plt\n",
    "import numpy as np\n",
    "import time as t\n",
    "import math\n",
    "import pandas as pd\n",
    "import dlib\n",
    "import os\n",
    "import shutil\n",
    "import matplotlib.pyplot as plt\n",
    "from collections import Counter\n",
    "import copy"
   ]
  },
  {
   "cell_type": "code",
   "execution_count": 2,
   "metadata": {
    "collapsed": true
   },
   "outputs": [],
   "source": [
    "debug = False\n",
    "dlib_path = './models/shape_predictor_68_face_landmarks.dat'"
   ]
  },
  {
   "cell_type": "code",
   "execution_count": 3,
   "metadata": {
    "collapsed": true
   },
   "outputs": [],
   "source": [
    "def grid_display(list_of_images, list_of_titles=[], no_of_columns=2, figsize=(30,30), ratio=1, conv_color = False):\n",
    "    \n",
    "    if conv_color:\n",
    "        list_of_images = [cv2.cvtColor(image, cv2.COLOR_BGR2RGB) for image in list_of_images]\n",
    "    \n",
    "    num_img = len(list_of_images)\n",
    "    row = math.ceil( num_img / no_of_columns )\n",
    "    \n",
    "    if figsize[1] == 0:\n",
    "        fig = plt.figure(figsize=(figsize[0], figsize[0]*row/no_of_columns/ratio))\n",
    "    else:\n",
    "        fig = plt.figure(figsize=figsize)\n",
    "        \n",
    "    for i, img in enumerate(list_of_images):\n",
    "        if list_of_titles:\n",
    "            fig.add_subplot( row, no_of_columns , i+1, title = list_of_titles[i])\n",
    "        else:\n",
    "            fig.add_subplot( row, no_of_columns , i+1)\n",
    "        plt.imshow(list_of_images[i])\n",
    "        plt.axis('off')\n",
    "    plt.show()"
   ]
  },
  {
   "cell_type": "code",
   "execution_count": null,
   "metadata": {
    "collapsed": true
   },
   "outputs": [],
   "source": [
    "def get_lankmark(path):\n",
    "    detector = dlib.get_frontal_face_detector()\n",
    "    landmark_predictor = dlib.shape_predictor(dlib_path)\n",
    "    img = cv2.imread(path)\n",
    "    img_shape = img.shape\n",
    "    faces = detector(img, 1) #detect face\n",
    "    landmark = []\n",
    "    rect = []\n",
    "    if (len(faces) > 0):\n",
    "        for k, d in enumerate(faces):\n",
    "            rect.append( [( d.left(), d.top() ), ( d.right(), d.bottom() )] )\n",
    "            \n",
    "            shape = landmark_predictor(img, d)\n",
    "            feas = []  #lankmark points\n",
    "            for i in range(68):\n",
    "                num = str(shape.part(i))[1:-1].split(\",\")\n",
    "                feas.append( (int(num[0]), int(num[1])) )\n",
    "            feas.append( ( d.left(), d.top() ) ) \n",
    "            feas.append( ( d.right(), d.bottom() ) ) \n",
    "            landmark.append(feas)\n",
    "    \n",
    "    return img, rect, landmark, img_shape"
   ]
  },
  {
   "cell_type": "code",
   "execution_count": 5,
   "metadata": {
    "collapsed": true
   },
   "outputs": [],
   "source": [
    "def get_organ_boxes(landmark):\n",
    "    #define boxes coordinate\n",
    "    return {\n",
    "    #face\n",
    "    'face':(\n",
    "        landmark[0][-2][0], #x_left_top\n",
    "        landmark[0][-2][1],  #y_left_top\n",
    "        landmark[0][-1][0], #x_right_bottom\n",
    "        landmark[0][-1][1], #y_right_bottom\n",
    "    ),\n",
    "    #forehead\n",
    "    'forehead':(\n",
    "        landmark[0][19][0], #x_left_top\n",
    "        landmark[0][19][1] - (landmark[0][23][0] - landmark[0][20][0]),  #y_left_top\n",
    "        landmark[0][24][0], #x_right_bottom\n",
    "        min(landmark[0][17][1], landmark[0][18][1], landmark[0][19][1], landmark[0][20][1]), #y_right_bottom\n",
    "    ),\n",
    "    #left cheek\n",
    "    'cheek_l':(\n",
    "        min(landmark[0][1][0], landmark[0][2][0], landmark[0][3][0]), #x_left_top\n",
    "        max(landmark[0][36][1], landmark[0][39][1], landmark[0][40][1], landmark[0][41][1]), #y_left_top\n",
    "        (landmark[0][31][0] + landmark[0][31][0] - landmark[0][32][0]), #x_right_bottom\n",
    "        landmark[0][49][1], #y_right_bottom\n",
    "    ),\n",
    "    #right cheeka\n",
    "    'cheek_r':(\n",
    "        (landmark[0][35][0]+landmark[0][35][0]-landmark[0][34][0]), #x_left_top\n",
    "        max(landmark[0][46][1], landmark[0][47][1], landmark[0][45][1], landmark[0][42][1]), #y_left_top\n",
    "        landmark[0][15][0], #x_right_bottom\n",
    "        landmark[0][63][1], #y_right_bottom\n",
    "    ),\n",
    "    #nose\n",
    "    'nose':(\n",
    "        (landmark[0][31][0] + landmark[0][31][0] - landmark[0][32][0]), #x_left_top\n",
    "        landmark[0][27][1], #y_left_top\n",
    "        (landmark[0][35][0]+landmark[0][35][0]-landmark[0][34][0]), #x_right_bottom\n",
    "        max(landmark[0][31][1], landmark[0][32][1], landmark[0][33][1], landmark[0][34][1], landmark[0][35][1]), #y_right_bottom\n",
    "    ),\n",
    "    #lip\n",
    "    'lip':(\n",
    "        landmark[0][48][0], #x_left_top\n",
    "        min(landmark[0][50][1], landmark[0][52][1]),  #y_left_top\n",
    "        landmark[0][54][0], #x_right_bottom\n",
    "        max(landmark[0][56][1], landmark[0][57][1], landmark[0][58][1]), #y_right_bottom\n",
    "    ),\n",
    "    #jaw\n",
    "    'jaw': (\n",
    "        landmark[0][5][0], #x_left_top\n",
    "        landmark[0][57][1], #y_left_top\n",
    "        landmark[0][11][0], #x_right_bottom\n",
    "        landmark[0][8][1] #y_right_bottom\n",
    "    ),\n",
    "    'neck':(\n",
    "        landmark[0][5][0], #x_left_top\n",
    "        landmark[0][8][1], #y_left_top\n",
    "        landmark[0][11][0], #x_right_bottom\n",
    "        landmark[0][8][1] + landmark[0][8][1] - landmark[0][57][1], #y_right_bottom\n",
    "    ),\n",
    "    'eyes':(\n",
    "        landmark[0][36][0]-20, #x_left_top\n",
    "        min(landmark[0][37][1], landmark[0][38][1], landmark[0][43][1], landmark[0][44][1]) - 10, #y_left_top\n",
    "        landmark[0][45][0]+20, #x_right_bottom\n",
    "        max(landmark[0][40][1], landmark[0][41][1], landmark[0][46][1], landmark[0][47][1]) + 10, #y_right_bottom\n",
    "    ),\n",
    "    'tongue':(\n",
    "        landmark[0][48][0]-10, #x_left_top\n",
    "        min(landmark[0][50][1], landmark[0][52][1]),  #y_left_top\n",
    "        landmark[0][54][0]+10, #x_right_bottom\n",
    "        max(landmark[0][7][1], landmark[0][9][1], landmark[0][8][1])+20, #y_right_bottom\n",
    "    ),\n",
    "    }\n"
   ]
  },
  {
   "cell_type": "code",
   "execution_count": 6,
   "metadata": {
    "collapsed": true
   },
   "outputs": [],
   "source": [
    "def mask_leye(img, landmark):\n",
    "    # extract lip shape\n",
    "    # get countour from landmark\n",
    "    countour = [np.array(landmark[0][36:41])] \n",
    "    # mask defaulting to black for 3-channel and transparent for 4-channel\n",
    "    # (of course replace corners with yours)\n",
    "    mask = np.zeros(img.shape, dtype=np.uint8)\n",
    "    # fill the ROI so it doesn't get wiped out when the mask is applied\n",
    "    channel_count = img.shape[2]  # i.e. 3 or 4 depending on your image\n",
    "    ignore_mask_color = (255,)*channel_count\n",
    "    cv2.fillPoly(mask, countour, ignore_mask_color)\n",
    "    # from Masterfool: use cv2.fillConvexPoly if you know it's convex\n",
    "    # apply the mask\n",
    "    img_masked = cv2.bitwise_and(img, mask)\n",
    "    return img_masked"
   ]
  },
  {
   "cell_type": "code",
   "execution_count": 7,
   "metadata": {
    "collapsed": true,
    "scrolled": true
   },
   "outputs": [],
   "source": [
    "\n",
    "def detect_face(obj_img_path, organ_dirs):\n",
    "    #extract landmark features\n",
    "    img, rect, landmark, img_shape  = get_lankmark(obj_img_path)\n",
    "#     img, rect, landmark, img_shape  = get_lankmark('./test/2345.jpg')\n",
    "#     img, rect, landmark, img_shape = get_lankmark('./test/f-026-01.jpg')\n",
    "#     img, rect, landmark = get_lankmark(sample_dir + face_img)\n",
    "    organ_boxes = get_organ_boxes(landmark)\n",
    "    # add facelandmark\n",
    "#     organ_boxes['face'] = (rect[0][0][0], rect[0][0][1], rect[0][1][0], rect[0][1][1])\n",
    "    \n",
    "    img_organs={}\n",
    "    # cut different parts of face\n",
    "    for organ in organ_dirs:\n",
    "#         print (organ)\n",
    "        img_orig = copy.copy(img)\n",
    "        organ_crop = img_orig[ organ_boxes[organ][1]:organ_boxes[organ][3],\n",
    "                                                 organ_boxes[organ][0]:organ_boxes[organ][2] ]\n",
    "        \n",
    "#         cv2.imwrite(organ_dirs[organ] + face_img, organ_crop)\n",
    "        # save organ crops\n",
    "        cv2.imwrite('./result/'+organ+'.jpg', organ_crop)\n",
    "\n",
    "        if organ == 'eyes' or organ == 'lip':\n",
    "            img_organs[organ] = organ_crop\n",
    "        else:\n",
    "            img_organs[organ] = cv2.resize(organ_crop, (120,120))\n",
    "\n",
    "\n",
    "    if debug:\n",
    "        # draw face rect and landmark features\n",
    "        for i, feat_point in enumerate(landmark[0]):\n",
    "            cv2.circle(img, feat_point, 2, (0, 0, 0))\n",
    "            cv2.putText(img, str(i), feat_point, 1, 0.7, (0, 0, 255))\n",
    "        for organ in organ_dirs:\n",
    "            cv2.rectangle(img, (organ_boxes[organ][0], organ_boxes[organ][1]), (organ_boxes[organ][2],organ_boxes[organ][3]),\n",
    "                          (255, 255, 255), 2)\n",
    "        cv2.rectangle(img, rect[0][0], rect[0][1], (0, 0, 255), 2)\n",
    "        print(rect[0][0],rect[0][1])\n",
    "#         img_eye = mask_leye(img, landmark)\n",
    "        \n",
    "        imgs=[]\n",
    "        # resize image\n",
    "        img_s = cv2.resize(img, (0,0), fx=0.5, fy=0.5)\n",
    "        imgs.append(img)\n",
    "        images = [cv2.cvtColor(image, cv2.COLOR_BGR2RGB) for image in imgs]\n",
    "        grid_display(images, [], 1, (30,30), 1, False)\n",
    "    \n",
    "    return img_organs, organ_boxes, img_shape, landmark\n",
    "    \n"
   ]
  },
  {
   "cell_type": "code",
   "execution_count": 8,
   "metadata": {
    "collapsed": true
   },
   "outputs": [],
   "source": [
    "def generate_svg(landmark_range):\n",
    "    # print (landmark[0][1:16])\n",
    "    divisor = 2\n",
    "    start = landmark_range[0]\n",
    "    svg_curve = 'M {:.0f},{:.0f} '.format(landmark[0][start][0] / divisor, landmark[0][start][1] / divisor)\n",
    "    svg_points = [{'cx': landmark[0][start][0] / divisor, 'cy': landmark[0][start][1] / divisor}]\n",
    "    for i, _ in enumerate(landmark_range[:-1]):\n",
    "        former = landmark_range[i]\n",
    "        later = landmark_range[i+1]\n",
    "        offset_x = -5 if i < 7 else 5\n",
    "        offset_y = 5\n",
    "        start_x = landmark[0][former][0] / divisor\n",
    "        start_y = landmark[0][former][1] / divisor\n",
    "        end_x = landmark[0][later][0] / divisor\n",
    "        end_y = landmark[0][later][1] / divisor\n",
    "        curve_x = (start_x + end_x)/2\n",
    "        curve_y = (start_y + end_y)/2\n",
    "        svg_points.append({'cx':end_x, 'cy':end_y})\n",
    "        svg_curve = svg_curve + 'Q {:.0f},{:.0f}, {:.0f},{:.0f} '.format(\n",
    "            curve_x, curve_y, end_x, end_y)\n",
    "    return svg_curve, svg_points\n"
   ]
  },
  {
   "cell_type": "markdown",
   "metadata": {},
   "source": [
    "#### generate face landmark to view"
   ]
  },
  {
   "cell_type": "code",
   "execution_count": 9,
   "metadata": {
    "collapsed": true
   },
   "outputs": [],
   "source": [
    "def gener_svg():\n",
    "    landmark_range = {\n",
    "        'face_svg' : range(0,17),\n",
    "        'eye_l_svg1':range(36,40),\n",
    "        'eye_l_svg2':[39,40,41,36],\n",
    "        'eye_r_svg1' : range(42,46),\n",
    "        'eye_r_svg2' : [45,46,47,42],\n",
    "        'lig_svg1' : range(48,55),\n",
    "        'lig_svg2' : [54,55,56,57,58,59,48],\n",
    "        'lig_svg3' : [48,60,61,62,63,54],\n",
    "        'nose_svg1' : range(27,31),\n",
    "        'nose_svg2' : range(31,36),\n",
    "    }\n",
    "\n",
    "    contour_path = [] \n",
    "\n",
    "    for key in landmark_range:\n",
    "        svg_curve, svg_points = generate_svg(landmark_range[key])\n",
    "        contour_path.append(svg_curve)\n",
    "    if debug:\n",
    "        print (contour_path)"
   ]
  },
  {
   "cell_type": "markdown",
   "metadata": {},
   "source": [
    "#### generate  organ position data to view"
   ]
  },
  {
   "cell_type": "code",
   "execution_count": 10,
   "metadata": {
    "collapsed": true
   },
   "outputs": [],
   "source": [
    "# print(organ_boxes)\n",
    "# print(img_shape)\n",
    "def get_organ_position(organ_boxes, img_shape):\n",
    "    img_w = img_shape[1]\n",
    "    img_h = img_shape[0]\n",
    "    organ_position = {}\n",
    "    for key in organ_boxes:\n",
    "        w_perc = (organ_boxes[key][2] - organ_boxes[key][0]) / img_w * 100\n",
    "        h_perc = (organ_boxes[key][3] - organ_boxes[key][1]) / img_h * 100\n",
    "        x_perc = organ_boxes[key][0] / img_w * 100\n",
    "        y_perc = (img_h - organ_boxes[key][3]) / img_h * 100\n",
    "        x_perc1 = (1 - organ_boxes[key][0]/img_w) * 10000/ w_perc\n",
    "        y_perc1 = (organ_boxes[key][3]/img_h - 0.5) * 10000/ h_perc\n",
    "        end_x = (1.5 - organ_boxes[key][0]/img_w) * 10000/ w_perc\n",
    "        end_y = (organ_boxes[key][3]/img_h - 0.5) * 10000/ h_perc\n",
    "        if key == 'face':\n",
    "            x_perc1 = y_perc1 = end_x = end_y = 0\n",
    "#         key: [width%, height%, start_left%, start_bottom%, middle_left%, middle_bottom&%, end_left%, end_bottom%]\n",
    "        organ_position[key] = [\"{:.0f}%\".format(w_perc), \"{:.0f}%\".format(h_perc), \n",
    "                               \"{:.0f}%\".format(x_perc), \"{:.0f}%\".format(y_perc), \n",
    "                               \"{:.0f}%\".format(x_perc1), \"{:.0f}%\".format(y_perc1),\n",
    "                               \"{:.0f}%\".format(end_x), \"{:.0f}%\".format(end_y)]\n",
    "    return organ_position\n",
    "        \n",
    "# organ_position = get_organ_position()\n",
    "# print (organ_position)"
   ]
  },
  {
   "cell_type": "markdown",
   "metadata": {},
   "source": [
    "#### generate hist data"
   ]
  },
  {
   "cell_type": "code",
   "execution_count": 11,
   "metadata": {
    "collapsed": true
   },
   "outputs": [],
   "source": [
    "def get_hist(organ_img, dim):\n",
    "    img = organ_img\n",
    "    img = cv2.resize(img, (120,120))\n",
    "    blue, green, red = img[:,:,0], img[:,:,1], img[:,:,2]\n",
    "    # normailize\n",
    "#     img[:,:,0] = blue/256\n",
    "#     img[:,:,1] = green/256\n",
    "#     img[:,:,2] = red/256\n",
    "    hist_b = cv2.calcHist([img], [0], None, [dim], [0, 256])\n",
    "    hist_g = cv2.calcHist([img], [1], None, [dim], [0, 256])\n",
    "    hist_r = cv2.calcHist([img], [2], None, [dim], [0, 256])\n",
    "    hist_r[-5:] = np.ceil(hist_r[-5:]/10)\n",
    "    return hist_b, hist_g, hist_r"
   ]
  },
  {
   "cell_type": "code",
   "execution_count": 12,
   "metadata": {
    "collapsed": true,
    "scrolled": true
   },
   "outputs": [],
   "source": [
    "def get_hist_data(img_organs, dim):\n",
    "    organ_hist = {}\n",
    "    for i, organ_img in enumerate(img_organs):\n",
    "        img = img_organs[organ_img]\n",
    "        hist_b, hist_g, hist_r = get_hist(img, dim)\n",
    "        msg_json = []\n",
    "        for i in range(hist_b.shape[0]):\n",
    "            msg_json.append({'dim':[i,i+1],\n",
    "                            'blue':hist_b[i][0],\n",
    "                            'green':hist_g[i][0],\n",
    "                            'red':hist_r[i][0],\n",
    "                            'dims':i,\n",
    "                           })\n",
    "        organ_hist[organ_img] = msg_json\n",
    "    return organ_hist"
   ]
  },
  {
   "cell_type": "code",
   "execution_count": 13,
   "metadata": {
    "collapsed": true
   },
   "outputs": [],
   "source": [
    "def get_organ_feature(dim, img_organs, chosen_organs):\n",
    "    sample_num = 1\n",
    "    bgr_data = np.zeros( ( sample_num, dim*3  ) )\n",
    "\n",
    "    organ_feat = {}\n",
    "    for organ in chosen_organs:\n",
    "        img = img_organs[organ]\n",
    "        hist_b, hist_g, hist_r = get_hist(img, dim)\n",
    "        organ_feat[organ] = np.concatenate([hist_b, hist_g, hist_r]).T\n",
    "        \n",
    "    return organ_feat"
   ]
  },
  {
   "cell_type": "markdown",
   "metadata": {},
   "source": [
    "### get result"
   ]
  },
  {
   "cell_type": "code",
   "execution_count": 14,
   "metadata": {
    "collapsed": true,
    "scrolled": false
   },
   "outputs": [],
   "source": [
    "def predict_result(organ_feat, img_organs, color_labels, face_diagnose, landmark):\n",
    "    predicts = []\n",
    "    results = []\n",
    "    res_imgs = []\n",
    "    \n",
    "    predict_organ = {}\n",
    "    for organ in organ_feat:\n",
    "        res_imgs.append(img_organs[organ])\n",
    "        try:\n",
    "            modle_path = './models/svm_'+organ+'_model.m'\n",
    "            model = joblib.load(modle_path)\n",
    "            if debug:\n",
    "                print (modle_path)\n",
    "            # predict data\n",
    "            predict = model.predict(organ_feat[organ])\n",
    "\n",
    "            predict_organ[organ]=predict[0] #save organ predict\n",
    "            predicts.append(color_labels[predict[0]])\n",
    "            results.append(organ+': '+color_labels[predict[0]])\n",
    "        except Exception:\n",
    "            pass\n",
    "    \n",
    "    if debug:\n",
    "        grid_display(res_imgs, results, 5, (15,15), 1, conv_color = True)\n",
    "        color_diagnose = Counter(predicts).most_common(1)\n",
    "#         grid_display(img_origs, color_diagnose, 1, (10,10), 1, conv_color = True)\n",
    "        \n",
    "        # print (color_diagnose[0][0])\n",
    "        print (face_diagnose[color_diagnose[0][0]])\n",
    "\n",
    "        # process eyes\n",
    "        grid_display([img_organs['eyes']], ['eyes'], 1, (8,3), 1, conv_color = True)\n",
    "        # classify smart or not\n",
    "        if (landmark[0][36][1] < landmark[0][39][1] or landmark[0][42][1] > landmark[0][45][1]):\n",
    "            print('双目有神')\n",
    "        else:\n",
    "            print('双目无神')\n",
    "\n",
    "        # process lip\n",
    "        grid_display([img_organs['lip']], ['lip'], 1, (3,2), 1, conv_color = True)\n",
    "        # classify smart or not\n",
    "        \n",
    "    return predict_organ"
   ]
  },
  {
   "cell_type": "markdown",
   "metadata": {},
   "source": [
    "### generate donut data"
   ]
  },
  {
   "cell_type": "code",
   "execution_count": 15,
   "metadata": {},
   "outputs": [],
   "source": [
    "def generate_rand_list():\n",
    "    import random\n",
    "    rand_list = []\n",
    "    sum_rand = 0\n",
    "    random.randint(1, 100)\n",
    "    for i in range(6):\n",
    "        rand = random.randint(1, 100)\n",
    "        rand_list.append(rand)\n",
    "        \n",
    "        sum_rand += rand\n",
    "\n",
    "    color_prob = []\n",
    "    for i, num in enumerate(rand_list):\n",
    "        prob = num / sum_rand * 60\n",
    "        \n",
    "        color_prob.append(prob)\n",
    "    \n",
    "    \n",
    "    return color_prob\n",
    "\n",
    "\n",
    "def generate_res_prob(predict_organ):\n",
    "    color = ['黑','青','黄','白','赤', '正常']\n",
    "    organ_chn = {'jaw': \"下巴\",'cheek_l': \"左脸\", 'cheek_r': \"右脸\", 'nose': \"鼻\", 'forehead': \"额\"}\n",
    "    \n",
    "    res_prob = []\n",
    "    reulst_prob = {}\n",
    "\n",
    "    for organ in predict_organ:\n",
    "        color_prob = generate_rand_list()\n",
    "        res_prob.append(color_prob)\n",
    "        sum_s = 0\n",
    "        color_res_prob = []\n",
    "        for i, count in enumerate(color_prob):\n",
    "            color_res_prob.append({'item': color[i], 'count':round(count)})\n",
    "            if i != predict_organ[organ]:\n",
    "                sum_s += round(count)\n",
    "            \n",
    "        color_res_prob[ predict_organ[organ] ] = {'item': color[ predict_organ[organ] ], 'count':100 - sum_s}\n",
    "#         reulst_prob[organ] = [organ_chn[organ] + '偏' + color[predict_organ[organ]] , color_res_prob]\n",
    "        reulst_prob[organ] = [color[predict_organ[organ]] , color_res_prob]\n",
    "#         print (sum_s)\n",
    "   \n",
    "    return reulst_prob\n",
    "\n",
    "# reulst_prob =  generate_res_prob(predict_organ)\n",
    "# print(reulst_prob)\n"
   ]
  },
  {
   "cell_type": "markdown",
   "metadata": {},
   "source": [
    "### generater organ results"
   ]
  },
  {
   "cell_type": "code",
   "execution_count": 16,
   "metadata": {},
   "outputs": [],
   "source": [
    "def get_organ_result(organ_results, predict_organ):\n",
    "    organ_res = {}\n",
    "    for key in predict_organ:\n",
    "        organ_res[key] = organ_results[key][predict_organ[key]]\n",
    "    return organ_res\n",
    "#     print (organ_res)"
   ]
  },
  {
   "cell_type": "markdown",
   "metadata": {},
   "source": [
    "#### get polar data"
   ]
  },
  {
   "cell_type": "code",
   "execution_count": 17,
   "metadata": {},
   "outputs": [],
   "source": [
    "def get_ploar_data(predict_organ, organ_chosen):\n",
    "    init_num = 10\n",
    "    color_result = []\n",
    "    reorder_Res = {0:3,1:4,2:1,3:2,4:0}\n",
    "    color_labels = ['red', 'yellow', 'white', 'black', 'blue']\n",
    "    oneColorRes = [{ 'item': '心/赤', '面色': init_num }, { 'item': '脾/黄', '面色': init_num }, { 'item': '肺/白', '面色': init_num }, \n",
    "                   { 'item': '肾/黑', '面色': init_num }, { 'item': '肝/青', '面色': init_num },]\n",
    "    for i, key in enumerate(organ_chosen):\n",
    "        oneColorRes[ reorder_Res[ predict_organ[key] ] ]['面色'] += 6\n",
    "        oneColorRes[i]['面色'] += 20\n",
    "        color_result.append(copy.deepcopy(oneColorRes))\n",
    "    return color_result\n",
    "# print (color_result)"
   ]
  },
  {
   "cell_type": "code",
   "execution_count": 18,
   "metadata": {},
   "outputs": [],
   "source": [
    "class diagnose_data():\n",
    "    def __init__(self):\n",
    "        # self.organ_chosen = ['jaw', 'cheek_l', 'cheek_r', 'nose', 'lip', 'forehead',  'neck', 'tongue', ]\n",
    "        self.organ_chosen = ['forehead', 'cheek_l', 'nose', 'cheek_r', 'jaw']\n",
    "        self.color_labels = ['black', 'blue', 'yellow', 'white', 'red']\n",
    "        self.organ_dirs = {'jaw':'./sample_sets/jaw/', \n",
    "              'cheek_l':'./sample_sets/cheek_l/', \n",
    "              'cheek_r':'./sample_sets/cheek_r/', \n",
    "              'nose':'./sample_sets/nose/', \n",
    "              'lip':'./sample_sets/lip/', \n",
    "              'eyes':'./sample_sets/eyes/',\n",
    "              'forehead':'./sample_sets/forehead/', \n",
    "              'neck':'./sample_sets/neck/',\n",
    "              'tongue':'./sample_sets/tongue/'\n",
    "             }\n",
    "        self.face_diagnose = {\n",
    "            'red':'面赤色：\\n面色赤色为暑热之色，手少阴经之色，心包络，小肠之色。主热证，赤色重为实热，微赤为虚热。因气血得热则行，热盛而血脉充盈，血色上荣，所以面色赤红。\\n红色对应心，面色红多与心有关。推荐几种养心的食物，如苦菜，大头菜，白果等都是很好的养心食物。',\n",
    "            'yellow': '面黄色：\\n面部黄色为湿土之色、脾胃之色、足太阴经之色。为风为热，主虚证、湿证。黄色乃脾虚湿蕴之象征。脾失健运、水湿内停、气血不充，致使肌肤失于充养，所以面色发黄。\\n黄色和脾对应，面色黄多与脾有关。脾为气血生化之源。脾胃功能运健，则气血旺盛，见面色红润，肌肤弹性良好。下面推荐几种养脾是食物，如茄子、蘑菇、胡萝卜、土豆、黄瓜、冬瓜、藕、梨、苹果、香蕉、西瓜。',\n",
    "            'white':'面白色：\\n面部白色为燥金之色，手太阴经之色，肺与大肠之色。主寒证、虚证、脱血、夺气。白色为气血虚弱不能荣养机体的表现。阳气不足，气血运行无力，或耗气失血不充，血脉空虚，均可呈现白色。\\n面白对应肺，面色白多与肺有关。肺的气机以宣降为顺，人体通过肺气的宣发和肃降，使气血津液得以布散全身。这里推荐几种养肺的食物，如胡椒、辣椒、葱、蒜、花椒等都是很好的养肺食物 ',\n",
    "            'black':'面黑色：\\n面黑色主肾虚证、水饮证、寒证、痛证及淤血证。黑为阴寒水盛之色。由于肾阳虚衰，水饮不化，气化不行，阴寒内盛，血失温养，经脉拘急，气血不畅，故面色黧黑。\\n黑色对应肾，面色黑多与肾有关。肾主藏精。肾精充盈，肾气旺盛时，五脏功能方可正常运行。推荐几种养肾食物，如海带、紫菜、海参等都是很好的养肾食物。',\n",
    "            'blue':'面青色：\\n面青色主寒证、痛证、淤血证、惊风证、肝病。青色为筋脉阻滞，气血不通之象。寒主收引主凝滞，寒盛而留于血脉，则气滞血瘀，故面色发青。\\n青色与肝对应，面色青多与肝有关。肝主藏血，主疏泄，能调节血流量和调畅全身气机，使气血平和，面部血液运行充足。养肝的食物有橘子、橄榄、柠檬、枇杷、芒果、石榴等。',\n",
    "            }\n",
    "        self.organ_results = {'jaw': [[\"下巴偏黑\", \"两颧潮红，如指如褛者，阴虚也\"], [\"下巴偏黑\", \"两颧潮红，如指如褛者，阴虚也\"], [\"下巴偏黑\", \"两颧潮红，如指如褛者，阴虚也\"], [\"下巴偏黑\", \"两颧潮红，如指如褛者，阴虚也\"], [\"下巴偏黑\", \"两颧潮红，如指如褛者，阴虚也\"]],\n",
    "             'cheek_l': [[\"左脸偏青\", \"两颧潮红，如指如褛者，阴虚也\"],[\"左脸偏青\", \"两颧潮红，如指如褛者，阴虚也\"],[\"左脸偏青\", \"两颧潮红，如指如褛者，阴虚也\"],[\"左脸偏青\", \"两颧潮红，如指如褛者，阴虚也\"],[\"左脸偏青\", \"两颧潮红，如指如褛者，阴虚也\"]],\n",
    "             'cheek_r':[[\"右脸偏白\", \"两颧潮红，如指如褛者，阴虚也\"],[\"右脸偏白\", \"两颧潮红，如指如褛者，阴虚也\"],[\"右脸偏白\", \"两颧潮红，如指如褛者，阴虚也\"],[\"右脸偏白\", \"两颧潮红，如指如褛者，阴虚也\"],[\"右脸偏白\", \"两颧潮红，如指如褛者，阴虚也\"]], \n",
    "             'nose':[[\"鼻偏黄\", \"两颧潮红，如指如褛者，阴虚也\"],[\"鼻偏黄\", \"两颧潮红，如指如褛者，阴虚也\"],[\"鼻偏黄\", \"两颧潮红，如指如褛者，阴虚也\"],[\"鼻偏黄\", \"两颧潮红，如指如褛者，阴虚也\"],[\"鼻偏黄\", \"两颧潮红，如指如褛者，阴虚也\"]], \n",
    "             'forehead':[[\"额偏赤\", \"两颧潮红，如指如褛者，阴虚也\"],[\"额偏赤\", \"两颧潮红，如指如褛者，阴虚也\"],[\"额偏赤\", \"两颧潮红，如指如褛者，阴虚也\"],[\"额偏赤\", \"两颧潮红，如指如褛者，阴虚也\"],[\"额偏赤\", \"两颧潮红，如指如褛者，阴虚也\"]],\n",
    "             'tongue':[[\"舌偏白\", \"两颧潮红，如指如褛者，阴虚也\"],[\"舌偏白\", \"两颧潮红，如指如褛者，阴虚也\"],[\"舌偏白\", \"两颧潮红，如指如褛者，阴虚也\"],[\"舌偏白\", \"两颧潮红，如指如褛者，阴虚也\"],[\"舌偏白\", \"两颧潮红，如指如褛者，阴虚也\"]]\n",
    "                }\n",
    "        organ_chosen = ['jaw', 'cheek_l', 'cheek_r', 'nose', 'forehead', 'eyes', 'lip'  ]\n",
    "        self.data_dim = 64\n",
    "        self.actual_dim =256\n",
    "        self.img_organs = {}\n",
    "        self.organ_boxes = {}\n",
    "        self.landmark = []\n",
    "        self.img_shape = ()\n",
    "        self.organ_position = []\n",
    "        self.hist_data = {} #hist_chart_data\n",
    "        self.hist_feat = {} #hist_feature\n",
    "        self.predict_organ = {} #predict num of each organ\n",
    "        self.reulst_prob = {} #donut_data\n",
    "        self.organ_res = {} #diagnose of each organ\n",
    "        self.polar_res = [] #result polar data \n",
    "    def collect_data(self):\n",
    "        self.img_organs, self.organ_boxes, self.img_shape, self.landmark = detect_face('./test/123.jpg', self.organ_dirs)\n",
    "        self.organ_position = get_organ_position(self.organ_boxes, self.img_shape)\n",
    "#         print (self.img_organs.keys())\n",
    "        self.hist_data = get_hist_data(self.img_organs, self.data_dim)\n",
    "#         print (self.hist_data['nose'][20:30])\n",
    "        self.hist_feat = get_organ_feature(self.actual_dim, self.img_organs, self.organ_chosen)\n",
    "#         print (self.hist_feat['nose'].shape)\n",
    "#         print (self.img_organs.keys())\n",
    "    def collect_reult(self):\n",
    "        self.predict_organ = predict_result(self.hist_feat, self.img_organs, self.color_labels, self.face_diagnose, self.landmark)\n",
    "#         print (self.predict_organ)\n",
    "        self.reulst_prob = generate_res_prob(self.predict_organ)\n",
    "#         print(self.reulst_prob)\n",
    "        self.organ_res = get_organ_result(self.organ_results, self.predict_organ)\n",
    "#         print (self.organ_res)\n",
    "        self.polar_res = get_ploar_data(self.predict_organ, self.organ_chosen)\n",
    "#         print (self.polar_res)\n",
    "        \n",
    "dd = diagnose_data()\n",
    "dd.collect_data()\n",
    "dd.collect_reult()\n"
   ]
  },
  {
   "cell_type": "code",
   "execution_count": null,
   "metadata": {
    "collapsed": true
   },
   "outputs": [],
   "source": []
  },
  {
   "cell_type": "code",
   "execution_count": null,
   "metadata": {
    "collapsed": true
   },
   "outputs": [],
   "source": []
  },
  {
   "cell_type": "code",
   "execution_count": null,
   "metadata": {
    "collapsed": true
   },
   "outputs": [],
   "source": []
  }
 ],
 "metadata": {
  "kernelspec": {
   "display_name": "Python 3",
   "language": "python",
   "name": "python3"
  },
  "language_info": {
   "codemirror_mode": {
    "name": "ipython",
    "version": 3
   },
   "file_extension": ".py",
   "mimetype": "text/x-python",
   "name": "python",
   "nbconvert_exporter": "python",
   "pygments_lexer": "ipython3",
   "version": "3.6.2"
  }
 },
 "nbformat": 4,
 "nbformat_minor": 2
}
